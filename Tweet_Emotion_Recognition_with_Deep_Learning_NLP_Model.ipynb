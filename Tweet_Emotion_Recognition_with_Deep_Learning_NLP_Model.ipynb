{
  "cells": [
    {
      "cell_type": "markdown",
      "metadata": {
        "id": "sp7D0ktn5eiG"
      },
      "source": [
        "## Project Title: Tweet Emotion Recognition: Natural Language Processing with TensorFlow\n",
        "\n",
        "**Project Description:**\n",
        "\n",
        "In today's digital age, social media platforms like Twitter have become a significant source of expressing emotions, opinions, and sentiments. Analyzing the emotions expressed in tweets can provide valuable insights into public sentiment and can be used for a variety of applications, from brand sentiment analysis to tracking public sentiment during crises. The \"Tweet Emotion Recognition: Natural Language Processing with TensorFlow\" project aims to harness the power of natural language processing (NLP) and deep learning to automatically recognize and categorize emotions in tweets.\n",
        "\n",
        "**Objective:**\n",
        "\n",
        "The main objective of this project is to develop a machine learning model for emotion recognition in tweets using the TensorFlow framework. This model will be capable of classifying tweets into different emotional categories, such as happiness, sadness, anger, and more. The project's goals include:\n",
        "\n",
        "1. **Data Collection:** Obtain and preprocess the [Tweet Emotion Dataset](https://github.com/dair-ai/emotion_dataset) to create a clean and well-structured dataset for training and testing the emotion recognition model.\n",
        "\n",
        "2. **Data Exploration:** Analyze the dataset to gain insights into the distribution of emotions in tweets and any patterns or trends in emotional expressions.\n",
        "\n",
        "3. **Natural Language Processing:** Implement text preprocessing techniques, such as tokenization, stop-word removal, and text vectorization, to prepare the text data for machine learning.\n",
        "\n",
        "4. **Model Selection:** Experiment with various deep learning models, such as recurrent neural networks (RNNs), long short-term memory (LSTM) networks, and transformers, to find the most suitable architecture for emotion recognition.(*This notebook uses LSTM*)\n",
        "\n",
        "5. **Model Training:** Train the selected model on the preprocessed dataset, optimizing hyperparameters and using techniques like transfer learning and data augmentation to improve performance.\n",
        "\n",
        "6. **Evaluation:** Evaluate the model's performance using appropriate metrics, such as accuracy, precision, recall, and F1 score, and visualize the results to understand its strengths and weaknesses.\n",
        "\n",
        "7. **Fine-Tuning:** Fine-tune the model to improve its accuracy and ability to handle real-world tweets with different writing styles and sentiments.\n",
        "\n",
        "8. **Documentation and Reporting:** Create detailed documentation, including a user guide and technical documentation for the project. Prepare a report summarizing the project's methodology, results, and potential use cases.\n",
        "\n",
        "9. **Future Improvements:** Discuss potential future improvements, such as expanding the emotion categories, multilingual support, and incorporating user-specific context.\n",
        "\n",
        "**Skills and Tools:**\n",
        "\n",
        "- Python\n",
        "- TensorFlow and Keras\n",
        "- Natural Language Processing techniques\n",
        "- Deep Learning architectures\n",
        "- Data preprocessing and cleaning\n",
        "- Model evaluation and visualization\n",
        "- Version control (e.g., Git)\n",
        "- Documentation and reporting skills\n",
        "\n",
        "This project will be a valuable resource for those interested in NLP, sentiment analysis, and emotion recognition, and it can be a stepping stone for more advanced applications like social media monitoring, mental health support, and customer feedback analysis.\n"
      ]
    },
    {
      "cell_type": "markdown",
      "metadata": {},
      "source": [
        "---"
      ]
    },
    {
      "cell_type": "markdown",
      "metadata": {
        "id": "cprXxkrMxIgT"
      },
      "source": [
        "## Setup and Imports\n",
        "\n",
        "1. Installing Hugging Face's nlp package\n",
        "2. Importing libraries"
      ]
    },
    {
      "cell_type": "code",
      "execution_count": null,
      "metadata": {
        "colab": {
          "base_uri": "https://localhost:8080/"
        },
        "id": "5agZRy-45i0g",
        "outputId": "d13a0f89-9dd0-4b1b-b285-4f386d3af05f"
      },
      "outputs": [
        {
          "name": "stdout",
          "output_type": "stream",
          "text": [
            "Collecting nlp\n",
            "  Downloading nlp-0.4.0-py3-none-any.whl (1.7 MB)\n",
            "\u001b[2K     \u001b[90m━━━━━━━━━━━━━━━━━━━━━━━━━━━━━━━━━━━━━━━━\u001b[0m \u001b[32m1.7/1.7 MB\u001b[0m \u001b[31m14.3 MB/s\u001b[0m eta \u001b[36m0:00:00\u001b[0m\n",
            "\u001b[?25hRequirement already satisfied: numpy in /usr/local/lib/python3.10/dist-packages (from nlp) (1.23.5)\n",
            "Requirement already satisfied: pyarrow>=0.16.0 in /usr/local/lib/python3.10/dist-packages (from nlp) (9.0.0)\n",
            "Collecting dill (from nlp)\n",
            "  Downloading dill-0.3.7-py3-none-any.whl (115 kB)\n",
            "\u001b[2K     \u001b[90m━━━━━━━━━━━━━━━━━━━━━━━━━━━━━━━━━━━━━━━━\u001b[0m \u001b[32m115.3/115.3 kB\u001b[0m \u001b[31m18.2 MB/s\u001b[0m eta \u001b[36m0:00:00\u001b[0m\n",
            "\u001b[?25hRequirement already satisfied: pandas in /usr/local/lib/python3.10/dist-packages (from nlp) (1.5.3)\n",
            "Requirement already satisfied: requests>=2.19.0 in /usr/local/lib/python3.10/dist-packages (from nlp) (2.31.0)\n",
            "Requirement already satisfied: tqdm>=4.27 in /usr/local/lib/python3.10/dist-packages (from nlp) (4.66.1)\n",
            "Requirement already satisfied: filelock in /usr/local/lib/python3.10/dist-packages (from nlp) (3.12.4)\n",
            "Requirement already satisfied: xxhash in /usr/local/lib/python3.10/dist-packages (from nlp) (3.4.1)\n",
            "Requirement already satisfied: charset-normalizer<4,>=2 in /usr/local/lib/python3.10/dist-packages (from requests>=2.19.0->nlp) (3.3.0)\n",
            "Requirement already satisfied: idna<4,>=2.5 in /usr/local/lib/python3.10/dist-packages (from requests>=2.19.0->nlp) (3.4)\n",
            "Requirement already satisfied: urllib3<3,>=1.21.1 in /usr/local/lib/python3.10/dist-packages (from requests>=2.19.0->nlp) (2.0.6)\n",
            "Requirement already satisfied: certifi>=2017.4.17 in /usr/local/lib/python3.10/dist-packages (from requests>=2.19.0->nlp) (2023.7.22)\n",
            "Requirement already satisfied: python-dateutil>=2.8.1 in /usr/local/lib/python3.10/dist-packages (from pandas->nlp) (2.8.2)\n",
            "Requirement already satisfied: pytz>=2020.1 in /usr/local/lib/python3.10/dist-packages (from pandas->nlp) (2023.3.post1)\n",
            "Requirement already satisfied: six>=1.5 in /usr/local/lib/python3.10/dist-packages (from python-dateutil>=2.8.1->pandas->nlp) (1.16.0)\n",
            "Installing collected packages: dill, nlp\n",
            "Successfully installed dill-0.3.7 nlp-0.4.0\n"
          ]
        }
      ],
      "source": [
        "!pip install nlp"
      ]
    },
    {
      "cell_type": "code",
      "execution_count": null,
      "metadata": {
        "colab": {
          "base_uri": "https://localhost:8080/"
        },
        "id": "yKFjWz6e5eiH",
        "outputId": "c04a9824-a008-4ab3-b19e-247b1fc8e2ee"
      },
      "outputs": [
        {
          "name": "stdout",
          "output_type": "stream",
          "text": [
            "Using TensorFlow version 2.13.0\n"
          ]
        }
      ],
      "source": [
        "%matplotlib inline\n",
        "\n",
        "import tensorflow as tf\n",
        "import numpy as np\n",
        "import matplotlib.pyplot as plt\n",
        "import nlp\n",
        "import random\n",
        "\n",
        "\n",
        "def show_history(h):\n",
        "    epochs_trained = len(h.history['loss'])\n",
        "    plt.figure(figsize=(16, 6))\n",
        "\n",
        "    plt.subplot(1, 2, 1)\n",
        "    plt.plot(range(0, epochs_trained), h.history.get('accuracy'), label='Training')\n",
        "    plt.plot(range(0, epochs_trained), h.history.get('val_accuracy'), label='Validation')\n",
        "    plt.ylim([0., 1.])\n",
        "    plt.xlabel('Epochs')\n",
        "    plt.ylabel('Accuracy')\n",
        "    plt.legend()\n",
        "\n",
        "    plt.subplot(1, 2, 2)\n",
        "    plt.plot(range(0, epochs_trained), h.history.get('loss'), label='Training')\n",
        "    plt.plot(range(0, epochs_trained), h.history.get('val_loss'), label='Validation')\n",
        "    plt.xlabel('Epochs')\n",
        "    plt.ylabel('Loss')\n",
        "    plt.legend()\n",
        "    plt.show()\n",
        "\n",
        "\n",
        "def show_confusion_matrix(y_true, y_pred, classes):\n",
        "    from sklearn.metrics import confusion_matrix\n",
        "\n",
        "    cm = confusion_matrix(y_true, y_pred, normalize='true')\n",
        "\n",
        "    plt.figure(figsize=(8, 8))\n",
        "    sp = plt.subplot(1, 1, 1)\n",
        "    ctx = sp.matshow(cm)\n",
        "    plt.xticks(list(range(0, 6)), labels=classes)\n",
        "    plt.yticks(list(range(0, 6)), labels=classes)\n",
        "    plt.colorbar(ctx)\n",
        "    plt.show()\n",
        "\n",
        "\n",
        "print('Using TensorFlow version', tf.__version__)"
      ]
    },
    {
      "cell_type": "markdown",
      "metadata": {
        "id": "7JsBpezExIga"
      },
      "source": [
        "## Importing Data\n",
        "\n",
        "1. Importing the Tweet Emotion dataset\n",
        "2. Creating train, validation and test sets\n",
        "3. Extracting tweets and labels from the examples"
      ]
    },
    {
      "cell_type": "code",
      "execution_count": null,
      "metadata": {
        "id": "0YHOvjAu5eiL"
      },
      "outputs": [],
      "source": [
        "import nlp\n",
        "import json\n",
        "\n",
        "# Define the file paths to your uploaded JSONL files\n",
        "train_file_path = '/content/train.jsonl'\n",
        "validation_file_path = '/content/validation.jsonl'\n",
        "test_file_path = '/content/test.jsonl'\n",
        "\n",
        "# Initialize empty lists to store the datasets\n",
        "train_dataset = []\n",
        "validation_dataset = []\n",
        "test_dataset = []\n",
        "\n",
        "# Load the train dataset\n",
        "with open(train_file_path, 'r') as train_file:\n",
        "    for line in train_file:\n",
        "        json_object = json.loads(line)\n",
        "        train_dataset.append(json_object)\n",
        "\n",
        "# Load the validation dataset\n",
        "with open(validation_file_path, 'r') as validation_file:\n",
        "    for line in validation_file:\n",
        "        json_object = json.loads(line)\n",
        "        validation_dataset.append(json_object)\n",
        "\n",
        "# Load the test dataset\n",
        "with open(test_file_path, 'r') as test_file:\n",
        "    for line in test_file:\n",
        "        json_object = json.loads(line)\n",
        "        test_dataset.append(json_object)\n",
        "\n",
        "# Now you have three separate datasets: train_dataset, validation_dataset, and test_dataset\n"
      ]
    },
    {
      "cell_type": "code",
      "execution_count": null,
      "metadata": {
        "id": "2s0h541FxIgc"
      },
      "outputs": [],
      "source": [
        "def get_tweet(data):\n",
        "  tweets = [x['text'] for x in data]\n",
        "  labels = [x['label'] for x in data]\n",
        "  return tweets,labels"
      ]
    },
    {
      "cell_type": "code",
      "execution_count": null,
      "metadata": {
        "id": "z7eCnxU25eiN"
      },
      "outputs": [],
      "source": [
        "tweets,labels = get_tweet(train_dataset)"
      ]
    },
    {
      "cell_type": "code",
      "execution_count": null,
      "metadata": {
        "colab": {
          "base_uri": "https://localhost:8080/"
        },
        "id": "oDYXMfZy5eiP",
        "outputId": "c3f4d020-d4db-41c6-ac6e-f30a115e9587"
      },
      "outputs": [
        {
          "data": {
            "text/plain": [
              "('i didnt feel humiliated', 0)"
            ]
          },
          "execution_count": 39,
          "metadata": {},
          "output_type": "execute_result"
        }
      ],
      "source": [
        "tweets[0], labels[0]"
      ]
    },
    {
      "cell_type": "markdown",
      "metadata": {
        "id": "gcAflLv6xIgp"
      },
      "source": [
        "## Tokenizer\n",
        "\n",
        "1. Tokenizing the tweets"
      ]
    },
    {
      "cell_type": "code",
      "execution_count": null,
      "metadata": {
        "id": "qfX5-ResxIgq"
      },
      "outputs": [],
      "source": [
        "from tensorflow.keras.preprocessing.text import Tokenizer"
      ]
    },
    {
      "cell_type": "markdown",
      "metadata": {
        "id": "MOROjVOG85me"
      },
      "source": [
        "What is Tokenization and why is it needed?\n",
        "\n",
        "The string of the tweet needs to be represented as numbers to be able to train machine learning models. Tokenization is conversion of the words to numbers. A simple approach the tokenizer uses is to create a corpus all the words that exist in the dataset to assign every unique word to a unique corresponding token. A limit can also be set to how many frequently used words  are to tokenized and rest less commonly used words are ignored. Less common words are given a common token of out of vocabolary or unkown word token."
      ]
    },
    {
      "cell_type": "code",
      "execution_count": null,
      "metadata": {
        "id": "cckUvwBo5eif"
      },
      "outputs": [],
      "source": [
        "tokenizer = Tokenizer(num_words=10000, oov_token='<UNK>')\n",
        "tokenizer.fit_on_texts(tweets)"
      ]
    },
    {
      "cell_type": "code",
      "execution_count": null,
      "metadata": {
        "colab": {
          "base_uri": "https://localhost:8080/"
        },
        "id": "eZ-GGZgI-Whq",
        "outputId": "f2643e61-82d2-4524-c3f1-63d331bce611"
      },
      "outputs": [
        {
          "data": {
            "text/plain": [
              "[[2, 139, 3, 679]]"
            ]
          },
          "execution_count": 15,
          "metadata": {},
          "output_type": "execute_result"
        }
      ],
      "source": [
        "tokenizer.texts_to_sequences([tweets[0]])"
      ]
    },
    {
      "cell_type": "markdown",
      "metadata": {
        "id": "i3Bqm7b2xIgu"
      },
      "source": [
        "## Padding and Truncating Sequences\n",
        "\n",
        "1. Checking length of the tweets\n",
        "2. Creating padded sequences"
      ]
    },
    {
      "cell_type": "code",
      "execution_count": null,
      "metadata": {
        "colab": {
          "base_uri": "https://localhost:8080/",
          "height": 430
        },
        "id": "mLvf_WFZxIgu",
        "outputId": "fa2f44af-b872-4c86-c0c2-46750d03bfdd"
      },
      "outputs": [
        {
          "data": {
            "image/png": "[encoded data removed]",
            "text/plain": [
              "<Figure size 640x480 with 1 Axes>"
            ]
          },
          "metadata": {},
          "output_type": "display_data"
        }
      ],
      "source": [
        "lengths = [len(t.split()) for t in tweets]\n",
        "\n",
        "# Plot the histogram\n",
        "plt.hist(lengths, bins=len(set(lengths)))\n",
        "plt.show()"
      ]
    },
    {
      "cell_type": "code",
      "execution_count": null,
      "metadata": {
        "id": "EOi5lIE3xIgx"
      },
      "outputs": [],
      "source": [
        "maxlen = 50\n",
        "\n",
        "from tensorflow.keras.preprocessing.sequence import pad_sequences"
      ]
    },
    {
      "cell_type": "code",
      "execution_count": null,
      "metadata": {
        "id": "Q9J_Iemf5eiq"
      },
      "outputs": [],
      "source": [
        "def get_sequences(tokenizer,tweets):\n",
        "  sequences = tokenizer.texts_to_sequences(tweets)\n",
        "  padded = pad_sequences(sequences, truncating = 'post', padding = 'post', maxlen = maxlen)\n",
        "  return padded"
      ]
    },
    {
      "cell_type": "code",
      "execution_count": null,
      "metadata": {
        "id": "eglH77ky5ei0"
      },
      "outputs": [],
      "source": [
        "padded_train_seq = get_sequences(tokenizer,tweets)"
      ]
    },
    {
      "cell_type": "code",
      "execution_count": null,
      "metadata": {
        "colab": {
          "base_uri": "https://localhost:8080/"
        },
        "id": "iGR473HA5ei7",
        "outputId": "21558926-51e6-4f88-fa93-5f70444972e9"
      },
      "outputs": [
        {
          "data": {
            "text/plain": [
              "array([  2, 139,   3, 679,   0,   0,   0,   0,   0,   0,   0,   0,   0,\n",
              "         0,   0,   0,   0,   0,   0,   0,   0,   0,   0,   0,   0,   0,\n",
              "         0,   0,   0,   0,   0,   0,   0,   0,   0,   0,   0,   0,   0,\n",
              "         0,   0,   0,   0,   0,   0,   0,   0,   0,   0,   0], dtype=int32)"
            ]
          },
          "execution_count": 23,
          "metadata": {},
          "output_type": "execute_result"
        }
      ],
      "source": [
        "padded_train_seq[0]"
      ]
    },
    {
      "cell_type": "markdown",
      "metadata": {
        "id": "BURhOX_KxIg8"
      },
      "source": [
        "## Preparing the Labels\n",
        "\n",
        "1. Creating classes to index and index to classes dictionaries\n",
        "2. Converting text labels to numeric labels"
      ]
    },
    {
      "cell_type": "code",
      "execution_count": null,
      "metadata": {
        "colab": {
          "base_uri": "https://localhost:8080/"
        },
        "id": "SufT2bpD5ejE",
        "outputId": "8b0748ca-b4f9-4b21-976c-183defa4fa56"
      },
      "outputs": [
        {
          "name": "stdout",
          "output_type": "stream",
          "text": [
            "{0, 1, 2, 3, 4, 5}\n"
          ]
        }
      ],
      "source": [
        "classes = set(labels)\n",
        "print(classes)"
      ]
    },
    {
      "cell_type": "markdown",
      "metadata": {
        "id": "Bm9Wn7nPBYwB"
      },
      "source": [
        "'0': sadness,\n",
        "'1': joy,\n",
        "'2': love,\n",
        "'3': anger,\n",
        "'4': fear,\n",
        "'5': surprise"
      ]
    },
    {
      "cell_type": "code",
      "execution_count": null,
      "metadata": {
        "colab": {
          "base_uri": "https://localhost:8080/",
          "height": 430
        },
        "id": "rpwzL88I7YSm",
        "outputId": "4bb8cda5-ee5a-4252-a756-743fe4489298"
      },
      "outputs": [
        {
          "data": {
            "image/png": "[encoded data removed]",
            "text/plain": [
              "<Figure size 640x480 with 1 Axes>"
            ]
          },
          "metadata": {},
          "output_type": "display_data"
        }
      ],
      "source": [
        "plt.hist(labels, bins=11)\n",
        "plt.show()"
      ]
    },
    {
      "cell_type": "code",
      "execution_count": null,
      "metadata": {
        "id": "dNLF6rXL5ejN"
      },
      "outputs": [],
      "source": [
        "names_to_ids = lambda labels: np.array(x for x in labels)"
      ]
    },
    {
      "cell_type": "code",
      "execution_count": null,
      "metadata": {
        "id": "_08InVyM5ejc"
      },
      "outputs": [],
      "source": [
        "train_labels = np.array(labels)"
      ]
    },
    {
      "cell_type": "code",
      "execution_count": null,
      "metadata": {
        "colab": {
          "base_uri": "https://localhost:8080/"
        },
        "id": "gpeDoA6gxIhE",
        "outputId": "5238df5c-b00c-424b-cd81-1d0146f8a0dc"
      },
      "outputs": [
        {
          "data": {
            "text/plain": [
              "array([0, 0, 3, ..., 1, 3, 0])"
            ]
          },
          "execution_count": 55,
          "metadata": {},
          "output_type": "execute_result"
        }
      ],
      "source": [
        "train_labels"
      ]
    },
    {
      "cell_type": "markdown",
      "metadata": {
        "id": "c-v0Mnh8xIhP"
      },
      "source": [
        "## Creating the Model\n",
        "\n",
        "1. Creating the model\n",
        "2. Compiling the model"
      ]
    },
    {
      "cell_type": "code",
      "execution_count": null,
      "metadata": {
        "colab": {
          "base_uri": "https://localhost:8080/"
        },
        "id": "OpewXxPQ5eji",
        "outputId": "a20598ed-ca09-4ded-8513-5d768dfc9e9c"
      },
      "outputs": [
        {
          "name": "stdout",
          "output_type": "stream",
          "text": [
            "Model: \"sequential\"\n",
            "_________________________________________________________________\n",
            " Layer (type)                Output Shape              Param #   \n",
            "=================================================================\n",
            " embedding (Embedding)       (None, 50, 16)            160000    \n",
            "                                                                 \n",
            " bidirectional (Bidirection  (None, 50, 40)            5920      \n",
            " al)                                                             \n",
            "                                                                 \n",
            " bidirectional_1 (Bidirecti  (None, 40)                9760      \n",
            " onal)                                                           \n",
            "                                                                 \n",
            " dense (Dense)               (None, 6)                 246       \n",
            "                                                                 \n",
            "=================================================================\n",
            "Total params: 175926 (687.21 KB)\n",
            "Trainable params: 175926 (687.21 KB)\n",
            "Non-trainable params: 0 (0.00 Byte)\n",
            "_________________________________________________________________\n"
          ]
        }
      ],
      "source": [
        "model = tf.keras.models.Sequential([\n",
        "        tf.keras.layers.Embedding(10000, 16, input_length=maxlen),\n",
        "        tf.keras.layers.Bidirectional(tf.keras.layers.LSTM(20, return_sequences=True)),\n",
        "        tf.keras.layers.Bidirectional(tf.keras.layers.LSTM(20)),\n",
        "        tf.keras.layers.Dense(6, activation='softmax')\n",
        "])\n",
        "\n",
        "model.compile(\n",
        "    loss='sparse_categorical_crossentropy',\n",
        "    optimizer='adam',\n",
        "    metrics=['accuracy']\n",
        ")\n",
        "\n",
        "model.summary()"
      ]
    },
    {
      "cell_type": "markdown",
      "metadata": {
        "id": "1HST_CHjxIhR"
      },
      "source": [
        "## Training the Model\n",
        "\n",
        "1. Preparing a validation set\n",
        "2. Training the model"
      ]
    },
    {
      "cell_type": "code",
      "execution_count": null,
      "metadata": {
        "id": "Ff7F3hCK5ejm"
      },
      "outputs": [],
      "source": [
        "val_tweets, val_labels = get_tweet(validation_dataset)\n",
        "val_seq = get_sequences(tokenizer, val_tweets)\n",
        "val_labels = np.array(val_labels)"
      ]
    },
    {
      "cell_type": "code",
      "execution_count": null,
      "metadata": {
        "colab": {
          "base_uri": "https://localhost:8080/"
        },
        "id": "hlMKaZ3H5ejr",
        "outputId": "3527b7a2-9e9a-4304-8619-6d032e350d16"
      },
      "outputs": [
        {
          "data": {
            "text/plain": [
              "('im feeling quite sad and sorry for myself but ill snap out of it soon', 0)"
            ]
          },
          "execution_count": 59,
          "metadata": {},
          "output_type": "execute_result"
        }
      ],
      "source": [
        "val_tweets[0], val_labels[0]"
      ]
    },
    {
      "cell_type": "code",
      "execution_count": null,
      "metadata": {
        "colab": {
          "base_uri": "https://localhost:8080/"
        },
        "id": "mu2vD6waFSX4",
        "outputId": "05b95963-783f-4720-b633-b384c78c85bc"
      },
      "outputs": [
        {
          "name": "stdout",
          "output_type": "stream",
          "text": [
            "Shape of padded_train_seq: (16000, 50)\n",
            "Shape of train_labels: (16000,)\n"
          ]
        }
      ],
      "source": [
        "print(\"Shape of padded_train_seq:\", padded_train_seq.shape)\n",
        "print(\"Shape of train_labels:\", train_labels.shape)\n"
      ]
    },
    {
      "cell_type": "code",
      "execution_count": null,
      "metadata": {
        "colab": {
          "base_uri": "https://localhost:8080/"
        },
        "id": "bzBqnWQ-5ejw",
        "outputId": "a6aa13b3-461f-4717-f47b-df52373d02d0"
      },
      "outputs": [
        {
          "name": "stdout",
          "output_type": "stream",
          "text": [
            "Epoch 1/20\n",
            "500/500 [==============================] - 11s 22ms/step - loss: 0.7202 - accuracy: 0.7451 - val_loss: 0.6033 - val_accuracy: 0.8110\n",
            "Epoch 2/20\n",
            "500/500 [==============================] - 8s 17ms/step - loss: 0.3909 - accuracy: 0.8742 - val_loss: 0.4582 - val_accuracy: 0.8505\n",
            "Epoch 3/20\n",
            "500/500 [==============================] - 9s 18ms/step - loss: 0.2731 - accuracy: 0.9115 - val_loss: 0.4933 - val_accuracy: 0.8475\n",
            "Epoch 4/20\n",
            "500/500 [==============================] - 8s 16ms/step - loss: 0.1867 - accuracy: 0.9401 - val_loss: 0.3505 - val_accuracy: 0.8825\n",
            "Epoch 5/20\n",
            "500/500 [==============================] - 8s 17ms/step - loss: 0.1314 - accuracy: 0.9601 - val_loss: 0.3847 - val_accuracy: 0.8875\n",
            "Epoch 6/20\n",
            "500/500 [==============================] - 7s 14ms/step - loss: 0.1063 - accuracy: 0.9668 - val_loss: 0.4137 - val_accuracy: 0.8900\n",
            "Epoch 7/20\n",
            "500/500 [==============================] - 9s 17ms/step - loss: 0.0877 - accuracy: 0.9734 - val_loss: 0.3908 - val_accuracy: 0.9020\n",
            "Epoch 8/20\n",
            "500/500 [==============================] - 7s 14ms/step - loss: 0.0754 - accuracy: 0.9773 - val_loss: 0.4320 - val_accuracy: 0.8865\n",
            "Epoch 9/20\n",
            "500/500 [==============================] - 7s 15ms/step - loss: 0.0671 - accuracy: 0.9803 - val_loss: 0.3954 - val_accuracy: 0.8895\n"
          ]
        }
      ],
      "source": [
        "h = model.fit(\n",
        "    padded_train_seq, train_labels,\n",
        "    validation_data=(val_seq, val_labels),\n",
        "    epochs = 20,\n",
        "    callbacks =[\n",
        "        tf.keras.callbacks.EarlyStopping(monitor = 'val_accuracy', patience = 2)\n",
        "    ]\n",
        ")"
      ]
    },
    {
      "cell_type": "markdown",
      "metadata": {
        "id": "EdsJyMTLxIhX"
      },
      "source": [
        "## Evaluating the Model\n",
        "\n",
        "1. Visualizing training history\n",
        "2. Prepraring a test set\n",
        "3. A look at individual predictions on the test set\n",
        "4. A look at all predictions on the test set"
      ]
    },
    {
      "cell_type": "code",
      "execution_count": null,
      "metadata": {
        "colab": {
          "base_uri": "https://localhost:8080/",
          "height": 547
        },
        "id": "ENCfvXeLxIhX",
        "outputId": "178d8071-a895-4e7d-808e-30a54562c539"
      },
      "outputs": [
        {
          "data": {
            "image/png": "[encoded data removed]",
            "text/plain": [
              "<Figure size 1600x600 with 2 Axes>"
            ]
          },
          "metadata": {},
          "output_type": "display_data"
        }
      ],
      "source": [
        "show_history(h)"
      ]
    },
    {
      "cell_type": "code",
      "execution_count": null,
      "metadata": {
        "id": "kWuzoz8uxIha"
      },
      "outputs": [],
      "source": [
        "test_tweets, test_labels = get_tweet(test_dataset)\n",
        "test_seq = get_sequences(tokenizer, test_tweets)\n",
        "test_labels = np.array(test_labels)"
      ]
    },
    {
      "cell_type": "code",
      "execution_count": null,
      "metadata": {
        "colab": {
          "base_uri": "https://localhost:8080/"
        },
        "id": "7vRVJ_2SxIhc",
        "outputId": "1b5d0d82-7570-4b1c-a2a6-705221c333ee"
      },
      "outputs": [
        {
          "name": "stdout",
          "output_type": "stream",
          "text": [
            "63/63 [==============================] - 1s 9ms/step - loss: 0.4114 - accuracy: 0.8785\n"
          ]
        }
      ],
      "source": [
        "_ = model.evaluate(test_seq, test_labels)"
      ]
    },
    {
      "cell_type": "code",
      "execution_count": null,
      "metadata": {
        "colab": {
          "base_uri": "https://localhost:8080/"
        },
        "id": "rh638vHG5ej6",
        "outputId": "f36f9274-aa26-4fbd-b9be-b8c7e614dec5"
      },
      "outputs": [
        {
          "name": "stdout",
          "output_type": "stream",
          "text": [
            "Sentence: i can cycle further than ever before and the feeling of finishing the manchester to blackpool miles then not being at all bothered at having to ride an extra mile to put\n",
            "Emotion: 3\n",
            "1/1 [==============================] - 0s 27ms/step\n",
            "Predicted Emotion: 3\n"
          ]
        }
      ],
      "source": [
        "i = random.randint(0, len(test_labels) - 1)\n",
        "print('Sentence:', test_tweets[i])\n",
        "print('Emotion:', test_labels[i])\n",
        "\n",
        "p= model.predict(np.expand_dims(test_seq[i], axis=0))[0]\n",
        "pred_class = np.argmax(p).astype('uint8')\n",
        "\n",
        "print('Predicted Emotion:', pred_class)"
      ]
    },
    {
      "cell_type": "code",
      "execution_count": null,
      "metadata": {
        "colab": {
          "base_uri": "https://localhost:8080/"
        },
        "id": "hHl5SVCFxIhh",
        "outputId": "188e4d9a-7613-4a40-b3cb-016754fad08c"
      },
      "outputs": [
        {
          "name": "stdout",
          "output_type": "stream",
          "text": [
            "63/63 [==============================] - 1s 8ms/step\n"
          ]
        },
        {
          "data": {
            "text/plain": [
              "array([[9.9920386e-01, 3.6216795e-04, 8.0809205e-06, 2.6811170e-04,\n",
              "        1.5608480e-04, 1.6627550e-06],\n",
              "       [9.9911469e-01, 3.7488888e-04, 1.0074825e-05, 3.3428811e-04,\n",
              "        1.6395708e-04, 2.1074479e-06],\n",
              "       [9.9860340e-01, 4.9449794e-04, 1.5202207e-05, 5.3810992e-04,\n",
              "        3.4480949e-04, 3.9384227e-06],\n",
              "       ...,\n",
              "       [5.6304445e-04, 9.9844724e-01, 1.2264887e-04, 6.5412314e-06,\n",
              "        8.5267104e-04, 7.8649136e-06],\n",
              "       [3.1339264e-04, 9.9942458e-01, 1.8466938e-04, 3.0515318e-06,\n",
              "        7.1270435e-05, 3.0620499e-06],\n",
              "       [2.1397369e-04, 3.5628765e-03, 8.1360806e-03, 2.4065659e-03,\n",
              "        7.3257081e-02, 9.1242349e-01]], dtype=float32)"
            ]
          },
          "execution_count": 79,
          "metadata": {},
          "output_type": "execute_result"
        }
      ],
      "source": [
        "preds = model.predict(test_seq)\n",
        "# Convert continuous probabilities to class predictions\n",
        "predicted_labels = np.argmax(preds, axis=1)\n"
      ]
    },
    {
      "cell_type": "code",
      "execution_count": null,
      "metadata": {
        "colab": {
          "base_uri": "https://localhost:8080/",
          "height": 661
        },
        "id": "NC8YQ0OexIhj",
        "outputId": "1e42083c-edd2-4029-af61-53e0f3083aaa"
      },
      "outputs": [
        {
          "data": {
            "image/png": "[encoded data removed]",
            "text/plain": [
              "<Figure size 800x800 with 2 Axes>"
            ]
          },
          "metadata": {},
          "output_type": "display_data"
        }
      ],
      "source": [
        "show_confusion_matrix(test_labels, predicted_labels, classes)"
      ]
    },
    {
      "cell_type": "code",
      "execution_count": null,
      "metadata": {
        "colab": {
          "base_uri": "https://localhost:8080/"
        },
        "id": "Z2eEq7ZxKpDT",
        "outputId": "7d73024f-f149-4ded-bfcc-c8c60a3e8621"
      },
      "outputs": [
        {
          "name": "stdout",
          "output_type": "stream",
          "text": [
            "Confusion Matrix:\n",
            "[[546  14   0  14   7   0]\n",
            " [ 20 612  40   7   9   7]\n",
            " [  1  19 131   5   0   3]\n",
            " [ 16   4   2 233   4  16]\n",
            " [ 14   1   1   6 185  17]\n",
            " [  3   4   0   0   9  50]]\n",
            "Accuracy: 0.8785\n"
          ]
        }
      ],
      "source": [
        "from sklearn.metrics import confusion_matrix, accuracy_score\n",
        "\n",
        "# Convert continuous probabilities to class predictions\n",
        "predicted_labels = np.argmax(preds, axis=1)\n",
        "\n",
        "# Calculate the confusion matrix\n",
        "confusion = confusion_matrix(test_labels, predicted_labels)\n",
        "\n",
        "# Calculate the accuracy\n",
        "accuracy = accuracy_score(test_labels, predicted_labels)\n",
        "\n",
        "# Print or visualize the confusion matrix\n",
        "print(\"Confusion Matrix:\")\n",
        "print(confusion)\n",
        "print(\"Accuracy:\", accuracy)"
      ]
    },
    {
      "cell_type": "markdown",
      "metadata": {},
      "source": [
        "## Results\n",
        "\n",
        "The LSTM model with two Bidirectional layers and a dense layer with softmax activation proved to be the best choice for tweet emotion recognition. With an accuracy of 87.85%, the model demonstrated robust performance in classifying tweets into multiple emotional categories. The confusion matrix analysis and accuracy assessment provided further validation of the model's effectiveness, confirming its ability to accurately categorize tweets based on emotions such as sadness, joy, love, anger, fear, and surprise.\n"
      ]
    },
    {
      "cell_type": "markdown",
      "metadata": {},
      "source": [
        "## Conclusion\n",
        "\n",
        "The LSTM model's success in accurately recognizing emotions in tweets highlights its potential for various real-world applications. By providing valuable insights into public sentiment and emotional trends, the model contributes to a deeper understanding of user behaviors and preferences on social media platforms. Further enhancements, such as multilingual support and expanded emotion categories, could extend the model's utility in diverse linguistic and cultural contexts."
      ]
    }
  ],
  "metadata": {
    "accelerator": "GPU",
    "colab": {
      "provenance": []
    },
    "kernelspec": {
      "display_name": "Python 3",
      "language": "python",
      "name": "python3"
    },
    "language_info": {
      "codemirror_mode": {
        "name": "ipython",
        "version": 3
      },
      "file_extension": ".py",
      "mimetype": "text/x-python",
      "name": "python",
      "nbconvert_exporter": "python",
      "pygments_lexer": "ipython3",
      "version": "3.8.3"
    }
  },
  "nbformat": 4,
  "nbformat_minor": 0
}
